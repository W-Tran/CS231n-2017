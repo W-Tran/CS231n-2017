{
 "cells": [
  {
   "cell_type": "markdown",
   "metadata": {},
   "source": [
    "# Dropout\n",
    "Dropout [1] is a technique for regularizing neural networks by randomly setting some features to zero during the forward pass. In this exercise you will implement a dropout layer and modify your fully-connected network to optionally use dropout.\n",
    "\n",
    "[1] [Geoffrey E. Hinton et al, \"Improving neural networks by preventing co-adaptation of feature detectors\", arXiv 2012](https://arxiv.org/abs/1207.0580)"
   ]
  },
  {
   "cell_type": "code",
   "execution_count": 1,
   "metadata": {},
   "outputs": [
    {
     "name": "stdout",
     "output_type": "stream",
     "text": [
      "run the following from the cs231n directory and try again:\n",
      "python setup.py build_ext --inplace\n",
      "You may also need to restart your iPython kernel\n"
     ]
    }
   ],
   "source": [
    "# As usual, a bit of setup\n",
    "from __future__ import print_function\n",
    "import time\n",
    "import numpy as np\n",
    "import matplotlib.pyplot as plt\n",
    "from cs231n.classifiers.fc_net import *\n",
    "from cs231n.data_utils import get_CIFAR10_data\n",
    "from cs231n.gradient_check import eval_numerical_gradient, eval_numerical_gradient_array\n",
    "from cs231n.solver import Solver\n",
    "\n",
    "%matplotlib inline\n",
    "plt.rcParams['figure.figsize'] = (10.0, 8.0) # set default size of plots\n",
    "plt.rcParams['image.interpolation'] = 'nearest'\n",
    "plt.rcParams['image.cmap'] = 'gray'\n",
    "\n",
    "# for auto-reloading external modules\n",
    "# see http://stackoverflow.com/questions/1907993/autoreload-of-modules-in-ipython\n",
    "%load_ext autoreload\n",
    "%autoreload 2\n",
    "\n",
    "def rel_error(x, y):\n",
    "  \"\"\" returns relative error \"\"\"\n",
    "  return np.max(np.abs(x - y) / (np.maximum(1e-8, np.abs(x) + np.abs(y))))"
   ]
  },
  {
   "cell_type": "code",
   "execution_count": 2,
   "metadata": {},
   "outputs": [
    {
     "name": "stdout",
     "output_type": "stream",
     "text": [
      "X_train:  (49000, 3, 32, 32)\n",
      "y_train:  (49000,)\n",
      "X_val:  (1000, 3, 32, 32)\n",
      "y_val:  (1000,)\n",
      "X_test:  (1000, 3, 32, 32)\n",
      "y_test:  (1000,)\n"
     ]
    }
   ],
   "source": [
    "# Load the (preprocessed) CIFAR10 data.\n",
    "\n",
    "data = get_CIFAR10_data()\n",
    "for k, v in data.items():\n",
    "  print('%s: ' % k, v.shape)"
   ]
  },
  {
   "cell_type": "markdown",
   "metadata": {},
   "source": [
    "# Dropout forward pass\n",
    "In the file `cs231n/layers.py`, implement the forward pass for dropout. Since dropout behaves differently during training and testing, make sure to implement the operation for both modes.\n",
    "\n",
    "Once you have done so, run the cell below to test your implementation."
   ]
  },
  {
   "cell_type": "code",
   "execution_count": 3,
   "metadata": {},
   "outputs": [
    {
     "name": "stdout",
     "output_type": "stream",
     "text": [
      "Running tests with p =  0.25\n",
      "Mean of input:  10.000207878477502\n",
      "Mean of train-time output:  10.014059116977283\n",
      "Mean of test-time output:  10.000207878477502\n",
      "Fraction of train-time output set to zero:  0.749784\n",
      "Fraction of test-time output set to zero:  0.0\n",
      "\n",
      "Running tests with p =  0.4\n",
      "Mean of input:  10.000207878477502\n",
      "Mean of train-time output:  9.977917658761159\n",
      "Mean of test-time output:  10.000207878477502\n",
      "Fraction of train-time output set to zero:  0.600796\n",
      "Fraction of test-time output set to zero:  0.0\n",
      "\n",
      "Running tests with p =  0.7\n",
      "Mean of input:  10.000207878477502\n",
      "Mean of train-time output:  9.987811912159426\n",
      "Mean of test-time output:  10.000207878477502\n",
      "Fraction of train-time output set to zero:  0.30074\n",
      "Fraction of test-time output set to zero:  0.0\n",
      "\n"
     ]
    }
   ],
   "source": [
    "np.random.seed(231)\n",
    "x = np.random.randn(500, 500) + 10\n",
    "\n",
    "for p in [0.25, 0.4, 0.7]:\n",
    "    out, _ = dropout_forward(x, {'mode': 'train', 'p': p})\n",
    "    out_test, _ = dropout_forward(x, {'mode': 'test', 'p': p})\n",
    "\n",
    "    print('Running tests with p = ', p)\n",
    "    print('Mean of input: ', x.mean())\n",
    "    print('Mean of train-time output: ', out.mean())\n",
    "    print('Mean of test-time output: ', out_test.mean())\n",
    "    print('Fraction of train-time output set to zero: ', (out == 0).mean())\n",
    "    print('Fraction of test-time output set to zero: ', (out_test == 0).mean())\n",
    "    print()"
   ]
  },
  {
   "cell_type": "markdown",
   "metadata": {},
   "source": [
    "# Dropout backward pass\n",
    "In the file `cs231n/layers.py`, implement the backward pass for dropout. After doing so, run the following cell to numerically gradient-check your implementation."
   ]
  },
  {
   "cell_type": "code",
   "execution_count": 4,
   "metadata": {},
   "outputs": [
    {
     "name": "stdout",
     "output_type": "stream",
     "text": [
      "dx relative error:  5.44560814873387e-11\n"
     ]
    }
   ],
   "source": [
    "np.random.seed(231)\n",
    "x = np.random.randn(10, 10) + 10\n",
    "dout = np.random.randn(*x.shape)\n",
    "\n",
    "dropout_param = {'mode': 'train', 'p': 0.2, 'seed': 123}\n",
    "out, cache = dropout_forward(x, dropout_param)\n",
    "dx = dropout_backward(dout, cache)\n",
    "dx_num = eval_numerical_gradient_array(lambda xx: dropout_forward(xx, dropout_param)[0], x, dout)\n",
    "\n",
    "# Error should be around e-10 or less\n",
    "print('dx relative error: ', rel_error(dx, dx_num))"
   ]
  },
  {
   "cell_type": "markdown",
   "metadata": {},
   "source": [
    "## Inline Question 1:\n",
    "What happens if we do not divide the values being passed through inverse dropout by `p` in the dropout layer? Why does that happen?"
   ]
  },
  {
   "cell_type": "markdown",
   "metadata": {},
   "source": [
    "## Answer:\n",
    "\n",
    "To keep the same expected output, we must scale the output during training. If we don't do this, the output at test time will be larger in expected value as all neurons are active whereas some are dropped during training."
   ]
  },
  {
   "cell_type": "markdown",
   "metadata": {},
   "source": [
    "# Fully-connected nets with Dropout\n",
    "In the file `cs231n/classifiers/fc_net.py`, modify your implementation to use dropout. Specifically, if the constructor of the net receives a value that is not 1 for the `dropout` parameter, then the net should add dropout immediately after every ReLU nonlinearity. After doing so, run the following to numerically gradient-check your implementation."
   ]
  },
  {
   "cell_type": "code",
   "execution_count": 20,
   "metadata": {},
   "outputs": [
    {
     "name": "stdout",
     "output_type": "stream",
     "text": [
      "Running check with dropout =  1\n",
      "Initial loss:  2.3004790897684924\n",
      "Running check with dropout =  0.75\n",
      "Initial loss:  2.302371489704412\n",
      "Running check with dropout =  0.5\n",
      "Initial loss:  2.3042759220785896\n",
      "W1 relative error: 3.11e-07\n",
      "\n",
      "W2 relative error: 1.84e-08\n",
      "\n",
      "W3 relative error: 5.35e-08\n",
      "\n",
      "b1 relative error: 5.37e-09\n",
      "\n",
      "b2 relative error: 2.99e-09\n",
      "\n",
      "b3 relative error: 1.13e-10\n",
      "\n"
     ]
    }
   ],
   "source": [
    "np.random.seed(231)\n",
    "N, D, H1, H2, C = 2, 15, 20, 30, 10\n",
    "X = np.random.randn(N, D)\n",
    "y = np.random.randint(C, size=(N,))\n",
    "\n",
    "for dropout in [1, 0.75, 0.5]:\n",
    "    print('Running check with dropout = ', dropout)\n",
    "    model = FullyConnectedNet([H1, H2], input_dim=D, num_classes=C,\n",
    "                              weight_scale=5e-2, dtype=np.float64,\n",
    "                              dropout=dropout, seed=123)\n",
    "\n",
    "    loss, grads = model.loss(X, y)\n",
    "    print('Initial loss: ', loss)\n",
    "  \n",
    "    # Relative errors should be around e-6 or less; Note that it's fine\n",
    "    # if for dropout=1 you have W2 error be on the order of e-5.\n",
    "for name in sorted(grads):\n",
    "    f = lambda _: model.loss(X, y)[0]\n",
    "    grad_num = eval_numerical_gradient(f, model.params[name], verbose=False, h=1e-5)\n",
    "    print('%s relative error: %.2e' % (name, rel_error(grad_num, grads[name])))\n",
    "    print()"
   ]
  },
  {
   "cell_type": "markdown",
   "metadata": {},
   "source": [
    "# Regularization experiment\n",
    "As an experiment, we will train a pair of two-layer networks on 500 training examples: one will use no dropout, and one will use a keep probability of 0.25. We will then visualize the training and validation accuracies of the two networks over time."
   ]
  },
  {
   "cell_type": "code",
   "execution_count": 26,
   "metadata": {
    "scrolled": true
   },
   "outputs": [
    {
     "name": "stdout",
     "output_type": "stream",
     "text": [
      "1\n",
      "(Iteration 1 / 125) loss: 7.856643\n",
      "(Epoch 0 / 25) train acc: 0.260000; val_acc: 0.184000\n",
      "(Epoch 1 / 25) train acc: 0.416000; val_acc: 0.258000\n",
      "(Epoch 2 / 25) train acc: 0.482000; val_acc: 0.276000\n",
      "(Epoch 3 / 25) train acc: 0.532000; val_acc: 0.277000\n",
      "(Epoch 4 / 25) train acc: 0.600000; val_acc: 0.271000\n",
      "(Epoch 5 / 25) train acc: 0.708000; val_acc: 0.299000\n",
      "(Epoch 6 / 25) train acc: 0.722000; val_acc: 0.282000\n",
      "(Epoch 7 / 25) train acc: 0.832000; val_acc: 0.255000\n",
      "(Epoch 8 / 25) train acc: 0.880000; val_acc: 0.268000\n",
      "(Epoch 9 / 25) train acc: 0.902000; val_acc: 0.277000\n",
      "(Epoch 10 / 25) train acc: 0.898000; val_acc: 0.261000\n",
      "(Epoch 11 / 25) train acc: 0.924000; val_acc: 0.263000\n",
      "(Epoch 12 / 25) train acc: 0.960000; val_acc: 0.298000\n",
      "(Epoch 13 / 25) train acc: 0.972000; val_acc: 0.315000\n",
      "(Epoch 14 / 25) train acc: 0.972000; val_acc: 0.311000\n",
      "(Epoch 15 / 25) train acc: 0.972000; val_acc: 0.314000\n",
      "(Epoch 16 / 25) train acc: 0.994000; val_acc: 0.301000\n",
      "(Epoch 17 / 25) train acc: 0.970000; val_acc: 0.305000\n",
      "(Epoch 18 / 25) train acc: 0.994000; val_acc: 0.305000\n",
      "(Epoch 19 / 25) train acc: 0.996000; val_acc: 0.310000\n",
      "(Epoch 20 / 25) train acc: 0.998000; val_acc: 0.296000\n",
      "(Iteration 101 / 125) loss: 0.000145\n",
      "(Epoch 21 / 25) train acc: 0.994000; val_acc: 0.300000\n",
      "(Epoch 22 / 25) train acc: 0.998000; val_acc: 0.300000\n",
      "(Epoch 23 / 25) train acc: 0.996000; val_acc: 0.296000\n",
      "(Epoch 24 / 25) train acc: 0.996000; val_acc: 0.296000\n",
      "(Epoch 25 / 25) train acc: 0.996000; val_acc: 0.289000\n",
      "0.25\n",
      "(Iteration 1 / 125) loss: 17.318478\n",
      "(Epoch 0 / 25) train acc: 0.230000; val_acc: 0.177000\n",
      "(Epoch 1 / 25) train acc: 0.378000; val_acc: 0.243000\n",
      "(Epoch 2 / 25) train acc: 0.402000; val_acc: 0.254000\n",
      "(Epoch 3 / 25) train acc: 0.502000; val_acc: 0.276000\n",
      "(Epoch 4 / 25) train acc: 0.528000; val_acc: 0.298000\n",
      "(Epoch 5 / 25) train acc: 0.562000; val_acc: 0.296000\n",
      "(Epoch 6 / 25) train acc: 0.626000; val_acc: 0.291000\n",
      "(Epoch 7 / 25) train acc: 0.622000; val_acc: 0.297000\n",
      "(Epoch 8 / 25) train acc: 0.688000; val_acc: 0.313000\n",
      "(Epoch 9 / 25) train acc: 0.712000; val_acc: 0.297000\n",
      "(Epoch 10 / 25) train acc: 0.724000; val_acc: 0.308000\n",
      "(Epoch 11 / 25) train acc: 0.770000; val_acc: 0.309000\n",
      "(Epoch 12 / 25) train acc: 0.772000; val_acc: 0.285000\n",
      "(Epoch 13 / 25) train acc: 0.822000; val_acc: 0.309000\n",
      "(Epoch 14 / 25) train acc: 0.806000; val_acc: 0.344000\n",
      "(Epoch 15 / 25) train acc: 0.848000; val_acc: 0.344000\n",
      "(Epoch 16 / 25) train acc: 0.846000; val_acc: 0.298000\n",
      "(Epoch 17 / 25) train acc: 0.852000; val_acc: 0.301000\n",
      "(Epoch 18 / 25) train acc: 0.852000; val_acc: 0.343000\n",
      "(Epoch 19 / 25) train acc: 0.870000; val_acc: 0.313000\n",
      "(Epoch 20 / 25) train acc: 0.874000; val_acc: 0.316000\n",
      "(Iteration 101 / 125) loss: 4.157017\n",
      "(Epoch 21 / 25) train acc: 0.922000; val_acc: 0.320000\n",
      "(Epoch 22 / 25) train acc: 0.908000; val_acc: 0.295000\n",
      "(Epoch 23 / 25) train acc: 0.910000; val_acc: 0.309000\n",
      "(Epoch 24 / 25) train acc: 0.910000; val_acc: 0.313000\n",
      "(Epoch 25 / 25) train acc: 0.922000; val_acc: 0.306000\n"
     ]
    }
   ],
   "source": [
    "# Train two identical nets, one with dropout and one without\n",
    "np.random.seed(231)\n",
    "num_train = 500\n",
    "small_data = {\n",
    "  'X_train': data['X_train'][:num_train],\n",
    "  'y_train': data['y_train'][:num_train],\n",
    "  'X_val': data['X_val'],\n",
    "  'y_val': data['y_val'],\n",
    "}\n",
    "\n",
    "solvers = {}\n",
    "dropout_choices = [1, 0.25]\n",
    "for dropout in dropout_choices:\n",
    "    model = FullyConnectedNet([500], dropout=dropout)\n",
    "    print(dropout)\n",
    "\n",
    "    solver = Solver(model, small_data,\n",
    "                    num_epochs=25, batch_size=100,\n",
    "                    update_rule='adam',\n",
    "                    optim_config={\n",
    "                      'learning_rate': 5e-4,\n",
    "                    },\n",
    "                    verbose=True, print_every=100)\n",
    "    solver.train()\n",
    "    solvers[dropout] = solver"
   ]
  },
  {
   "cell_type": "code",
   "execution_count": 27,
   "metadata": {},
   "outputs": [
    {
     "data": {
      "image/png": "[encoded data removed]",
      "text/plain": [
       "<Figure size 1080x1080 with 2 Axes>"
      ]
     },
     "metadata": {},
     "output_type": "display_data"
    }
   ],
   "source": [
    "# Plot train and validation accuracies of the two models\n",
    "\n",
    "train_accs = []\n",
    "val_accs = []\n",
    "for dropout in dropout_choices:\n",
    "  solver = solvers[dropout]\n",
    "  train_accs.append(solver.train_acc_history[-1])\n",
    "  val_accs.append(solver.val_acc_history[-1])\n",
    "\n",
    "plt.subplot(3, 1, 1)\n",
    "for dropout in dropout_choices:\n",
    "  plt.plot(solvers[dropout].train_acc_history, 'o', label='%.2f dropout' % dropout)\n",
    "plt.title('Train accuracy')\n",
    "plt.xlabel('Epoch')\n",
    "plt.ylabel('Accuracy')\n",
    "plt.legend(ncol=2, loc='lower right')\n",
    "  \n",
    "plt.subplot(3, 1, 2)\n",
    "for dropout in dropout_choices:\n",
    "  plt.plot(solvers[dropout].val_acc_history, 'o', label='%.2f dropout' % dropout)\n",
    "plt.title('Val accuracy')\n",
    "plt.xlabel('Epoch')\n",
    "plt.ylabel('Accuracy')\n",
    "plt.legend(ncol=2, loc='lower right')\n",
    "\n",
    "plt.gcf().set_size_inches(15, 15)\n",
    "plt.show()"
   ]
  },
  {
   "cell_type": "markdown",
   "metadata": {},
   "source": [
    "## Inline Question 2:\n",
    "Compare the validation and training accuracies with and without dropout -- what do your results suggest about dropout as a regularizer?"
   ]
  },
  {
   "cell_type": "markdown",
   "metadata": {},
   "source": [
    "## Answer:\n",
    "\n",
    "Using dropout results in approximately equal or better validation accuracies after a certain number of epochs (~4), it appears to be a good regularizer from these plots."
   ]
  },
  {
   "cell_type": "markdown",
   "metadata": {},
   "source": [
    "## Inline Question 3:\n",
    "Suppose we are training a deep fully-connected network for image classification, with dropout after hidden layers (parameterized by keep probability p). How should we modify p, if at all, if we decide to decrease the size of the hidden layers (that is, the number of nodes in each layer)?"
   ]
  },
  {
   "cell_type": "markdown",
   "metadata": {},
   "source": [
    "## Answer:\n",
    "\n",
    "The same keep probability will become a stronger regularizer for a network with smaller hidden layer sizes compared to larger layer sizes. This is because, for smaller networks, each hidden unit is more significant in representing features and thus in computing the classification output.\n",
    "Therefore, with a smaller network, you would increase the keep probability to maintain the same amount of regularization (or just cross-validate to find the best value for the dropout parameter)"
   ]
  },
  {
   "cell_type": "markdown",
   "metadata": {},
   "source": [
    "Let's investigate the claim above"
   ]
  },
  {
   "cell_type": "code",
   "execution_count": 33,
   "metadata": {
    "scrolled": true
   },
   "outputs": [
    {
     "name": "stdout",
     "output_type": "stream",
     "text": [
      "1\n",
      "(Iteration 1 / 2500) loss: 2.302709\n",
      "(Epoch 0 / 25) train acc: 0.163000; val_acc: 0.160000\n",
      "(Epoch 1 / 25) train acc: 0.410000; val_acc: 0.374000\n",
      "(Iteration 101 / 2500) loss: 1.679467\n",
      "(Epoch 2 / 25) train acc: 0.422000; val_acc: 0.408000\n",
      "(Iteration 201 / 2500) loss: 1.477722\n",
      "(Epoch 3 / 25) train acc: 0.485000; val_acc: 0.419000\n",
      "(Iteration 301 / 2500) loss: 1.550658\n",
      "(Epoch 4 / 25) train acc: 0.529000; val_acc: 0.435000\n",
      "(Iteration 401 / 2500) loss: 1.535907\n",
      "(Epoch 5 / 25) train acc: 0.575000; val_acc: 0.446000\n",
      "(Iteration 501 / 2500) loss: 0.933714\n",
      "(Epoch 6 / 25) train acc: 0.591000; val_acc: 0.439000\n",
      "(Iteration 601 / 2500) loss: 1.248797\n",
      "(Epoch 7 / 25) train acc: 0.633000; val_acc: 0.437000\n",
      "(Iteration 701 / 2500) loss: 1.265094\n",
      "(Epoch 8 / 25) train acc: 0.632000; val_acc: 0.438000\n",
      "(Iteration 801 / 2500) loss: 1.214873\n",
      "(Epoch 9 / 25) train acc: 0.675000; val_acc: 0.445000\n",
      "(Iteration 901 / 2500) loss: 1.050289\n",
      "(Epoch 10 / 25) train acc: 0.717000; val_acc: 0.449000\n",
      "(Iteration 1001 / 2500) loss: 0.817385\n",
      "(Epoch 11 / 25) train acc: 0.738000; val_acc: 0.429000\n",
      "(Iteration 1101 / 2500) loss: 0.661917\n",
      "(Epoch 12 / 25) train acc: 0.741000; val_acc: 0.413000\n",
      "(Iteration 1201 / 2500) loss: 0.653757\n",
      "(Epoch 13 / 25) train acc: 0.750000; val_acc: 0.444000\n",
      "(Iteration 1301 / 2500) loss: 0.647459\n",
      "(Epoch 14 / 25) train acc: 0.780000; val_acc: 0.436000\n",
      "(Iteration 1401 / 2500) loss: 0.798955\n",
      "(Epoch 15 / 25) train acc: 0.777000; val_acc: 0.422000\n",
      "(Iteration 1501 / 2500) loss: 0.548549\n",
      "(Epoch 16 / 25) train acc: 0.835000; val_acc: 0.423000\n",
      "(Iteration 1601 / 2500) loss: 0.497715\n",
      "(Epoch 17 / 25) train acc: 0.843000; val_acc: 0.437000\n",
      "(Iteration 1701 / 2500) loss: 0.474199\n",
      "(Epoch 18 / 25) train acc: 0.835000; val_acc: 0.430000\n",
      "(Iteration 1801 / 2500) loss: 0.470697\n",
      "(Epoch 19 / 25) train acc: 0.889000; val_acc: 0.426000\n",
      "(Iteration 1901 / 2500) loss: 0.323816\n",
      "(Epoch 20 / 25) train acc: 0.875000; val_acc: 0.431000\n",
      "(Iteration 2001 / 2500) loss: 0.339253\n",
      "(Epoch 21 / 25) train acc: 0.882000; val_acc: 0.423000\n",
      "(Iteration 2101 / 2500) loss: 0.236065\n",
      "(Epoch 22 / 25) train acc: 0.887000; val_acc: 0.407000\n",
      "(Iteration 2201 / 2500) loss: 0.328906\n",
      "(Epoch 23 / 25) train acc: 0.911000; val_acc: 0.429000\n",
      "(Iteration 2301 / 2500) loss: 0.394673\n",
      "(Epoch 24 / 25) train acc: 0.891000; val_acc: 0.416000\n",
      "(Iteration 2401 / 2500) loss: 0.286629\n",
      "(Epoch 25 / 25) train acc: 0.904000; val_acc: 0.425000\n",
      "0.5\n",
      "(Iteration 1 / 2500) loss: 2.301518\n",
      "(Epoch 0 / 25) train acc: 0.121000; val_acc: 0.106000\n",
      "(Epoch 1 / 25) train acc: 0.352000; val_acc: 0.325000\n",
      "(Iteration 101 / 2500) loss: 1.944076\n",
      "(Epoch 2 / 25) train acc: 0.382000; val_acc: 0.360000\n",
      "(Iteration 201 / 2500) loss: 1.796518\n",
      "(Epoch 3 / 25) train acc: 0.417000; val_acc: 0.370000\n",
      "(Iteration 301 / 2500) loss: 1.860967\n",
      "(Epoch 4 / 25) train acc: 0.376000; val_acc: 0.375000\n",
      "(Iteration 401 / 2500) loss: 1.844864\n",
      "(Epoch 5 / 25) train acc: 0.363000; val_acc: 0.380000\n",
      "(Iteration 501 / 2500) loss: 1.792504\n",
      "(Epoch 6 / 25) train acc: 0.431000; val_acc: 0.388000\n",
      "(Iteration 601 / 2500) loss: 1.746929\n",
      "(Epoch 7 / 25) train acc: 0.407000; val_acc: 0.382000\n",
      "(Iteration 701 / 2500) loss: 1.799120\n",
      "(Epoch 8 / 25) train acc: 0.366000; val_acc: 0.377000\n",
      "(Iteration 801 / 2500) loss: 1.861587\n",
      "(Epoch 9 / 25) train acc: 0.469000; val_acc: 0.396000\n",
      "(Iteration 901 / 2500) loss: 1.765230\n",
      "(Epoch 10 / 25) train acc: 0.447000; val_acc: 0.397000\n",
      "(Iteration 1001 / 2500) loss: 1.650692\n",
      "(Epoch 11 / 25) train acc: 0.418000; val_acc: 0.381000\n",
      "(Iteration 1101 / 2500) loss: 1.820273\n",
      "(Epoch 12 / 25) train acc: 0.431000; val_acc: 0.414000\n",
      "(Iteration 1201 / 2500) loss: 1.935900\n",
      "(Epoch 13 / 25) train acc: 0.455000; val_acc: 0.403000\n",
      "(Iteration 1301 / 2500) loss: 1.819018\n",
      "(Epoch 14 / 25) train acc: 0.446000; val_acc: 0.404000\n",
      "(Iteration 1401 / 2500) loss: 1.847116\n",
      "(Epoch 15 / 25) train acc: 0.463000; val_acc: 0.417000\n",
      "(Iteration 1501 / 2500) loss: 1.788655\n",
      "(Epoch 16 / 25) train acc: 0.461000; val_acc: 0.403000\n",
      "(Iteration 1601 / 2500) loss: 1.934751\n",
      "(Epoch 17 / 25) train acc: 0.466000; val_acc: 0.411000\n",
      "(Iteration 1701 / 2500) loss: 1.593144\n",
      "(Epoch 18 / 25) train acc: 0.485000; val_acc: 0.405000\n",
      "(Iteration 1801 / 2500) loss: 1.697542\n",
      "(Epoch 19 / 25) train acc: 0.439000; val_acc: 0.384000\n",
      "(Iteration 1901 / 2500) loss: 1.645292\n",
      "(Epoch 20 / 25) train acc: 0.492000; val_acc: 0.422000\n",
      "(Iteration 2001 / 2500) loss: 1.779891\n",
      "(Epoch 21 / 25) train acc: 0.501000; val_acc: 0.406000\n",
      "(Iteration 2101 / 2500) loss: 1.705214\n",
      "(Epoch 22 / 25) train acc: 0.496000; val_acc: 0.414000\n",
      "(Iteration 2201 / 2500) loss: 1.519883\n",
      "(Epoch 23 / 25) train acc: 0.476000; val_acc: 0.409000\n",
      "(Iteration 2301 / 2500) loss: 1.607706\n",
      "(Epoch 24 / 25) train acc: 0.474000; val_acc: 0.412000\n",
      "(Iteration 2401 / 2500) loss: 1.467924\n",
      "(Epoch 25 / 25) train acc: 0.502000; val_acc: 0.426000\n"
     ]
    }
   ],
   "source": [
    "np.random.seed(231)\n",
    "num_train = 10000\n",
    "small_data = {\n",
    "  'X_train': data['X_train'][:num_train],\n",
    "  'y_train': data['y_train'][:num_train],\n",
    "  'X_val': data['X_val'],\n",
    "  'y_val': data['y_val'],\n",
    "}\n",
    "\n",
    "solvers = {}\n",
    "dropout_choices = [1, 0.5]\n",
    "for dropout in dropout_choices:\n",
    "    model = FullyConnectedNet([100, 100, 100], dropout=dropout)\n",
    "    print(dropout)\n",
    "\n",
    "    solver = Solver(model, small_data,\n",
    "                    num_epochs=25, batch_size=100,\n",
    "                    update_rule='adam',\n",
    "                    optim_config={\n",
    "                      'learning_rate': 5e-4,\n",
    "                    },\n",
    "                    verbose=True, print_every=100)\n",
    "    solver.train()\n",
    "    solvers[dropout] = solver"
   ]
  },
  {
   "cell_type": "code",
   "execution_count": 34,
   "metadata": {},
   "outputs": [
    {
     "data": {
      "image/png": "[encoded data removed]",
      "text/plain": [
       "<Figure size 1080x1080 with 2 Axes>"
      ]
     },
     "metadata": {},
     "output_type": "display_data"
    }
   ],
   "source": [
    "# Plot train and validation accuracies of the two models\n",
    "\n",
    "train_accs = []\n",
    "val_accs = []\n",
    "for dropout in dropout_choices:\n",
    "    solver = solvers[dropout]\n",
    "    train_accs.append(solver.train_acc_history[-1])\n",
    "    val_accs.append(solver.val_acc_history[-1])\n",
    "\n",
    "plt.subplot(3, 1, 1)\n",
    "\n",
    "for dropout in dropout_choices:\n",
    "    plt.plot(solvers[dropout].train_acc_history, 'o', label='%.2f dropout' % dropout)\n",
    "\n",
    "plt.title('Train accuracy')\n",
    "plt.xlabel('Epoch')\n",
    "plt.ylabel('Accuracy')\n",
    "plt.legend(ncol=2, loc='lower right')\n",
    "  \n",
    "plt.subplot(3, 1, 2)\n",
    "for dropout in dropout_choices:\n",
    "    plt.plot(solvers[dropout].val_acc_history, 'o', label='%.2f dropout' % dropout)\n",
    "\n",
    "plt.title('Val accuracy')\n",
    "plt.xlabel('Epoch')\n",
    "plt.ylabel('Accuracy')\n",
    "plt.legend(ncol=2, loc='lower right')\n",
    "\n",
    "plt.gcf().set_size_inches(15, 15)\n",
    "plt.show()"
   ]
  },
  {
   "cell_type": "markdown",
   "metadata": {},
   "source": [
    "Now with smaller hidden layer sizes"
   ]
  },
  {
   "cell_type": "code",
   "execution_count": 35,
   "metadata": {
    "scrolled": true
   },
   "outputs": [
    {
     "name": "stdout",
     "output_type": "stream",
     "text": [
      "1\n",
      "(Iteration 1 / 2500) loss: 2.302879\n",
      "(Epoch 0 / 25) train acc: 0.161000; val_acc: 0.150000\n",
      "(Epoch 1 / 25) train acc: 0.325000; val_acc: 0.353000\n",
      "(Iteration 101 / 2500) loss: 1.797353\n",
      "(Epoch 2 / 25) train acc: 0.419000; val_acc: 0.410000\n",
      "(Iteration 201 / 2500) loss: 1.619131\n",
      "(Epoch 3 / 25) train acc: 0.447000; val_acc: 0.412000\n",
      "(Iteration 301 / 2500) loss: 1.643987\n",
      "(Epoch 4 / 25) train acc: 0.487000; val_acc: 0.394000\n",
      "(Iteration 401 / 2500) loss: 1.338349\n",
      "(Epoch 5 / 25) train acc: 0.505000; val_acc: 0.422000\n",
      "(Iteration 501 / 2500) loss: 1.452701\n",
      "(Epoch 6 / 25) train acc: 0.519000; val_acc: 0.437000\n",
      "(Iteration 601 / 2500) loss: 1.410721\n",
      "(Epoch 7 / 25) train acc: 0.558000; val_acc: 0.430000\n",
      "(Iteration 701 / 2500) loss: 1.295240\n",
      "(Epoch 8 / 25) train acc: 0.589000; val_acc: 0.431000\n",
      "(Iteration 801 / 2500) loss: 1.226486\n",
      "(Epoch 9 / 25) train acc: 0.579000; val_acc: 0.438000\n",
      "(Iteration 901 / 2500) loss: 1.215531\n",
      "(Epoch 10 / 25) train acc: 0.579000; val_acc: 0.427000\n",
      "(Iteration 1001 / 2500) loss: 1.172416\n",
      "(Epoch 11 / 25) train acc: 0.609000; val_acc: 0.442000\n",
      "(Iteration 1101 / 2500) loss: 1.052020\n",
      "(Epoch 12 / 25) train acc: 0.652000; val_acc: 0.439000\n",
      "(Iteration 1201 / 2500) loss: 1.064832\n",
      "(Epoch 13 / 25) train acc: 0.625000; val_acc: 0.450000\n",
      "(Iteration 1301 / 2500) loss: 0.945942\n",
      "(Epoch 14 / 25) train acc: 0.706000; val_acc: 0.426000\n",
      "(Iteration 1401 / 2500) loss: 0.858566\n",
      "(Epoch 15 / 25) train acc: 0.681000; val_acc: 0.434000\n",
      "(Iteration 1501 / 2500) loss: 1.084030\n",
      "(Epoch 16 / 25) train acc: 0.679000; val_acc: 0.426000\n",
      "(Iteration 1601 / 2500) loss: 1.018530\n",
      "(Epoch 17 / 25) train acc: 0.673000; val_acc: 0.415000\n",
      "(Iteration 1701 / 2500) loss: 0.821322\n",
      "(Epoch 18 / 25) train acc: 0.736000; val_acc: 0.445000\n",
      "(Iteration 1801 / 2500) loss: 0.880521\n",
      "(Epoch 19 / 25) train acc: 0.709000; val_acc: 0.418000\n",
      "(Iteration 1901 / 2500) loss: 0.826783\n",
      "(Epoch 20 / 25) train acc: 0.718000; val_acc: 0.427000\n",
      "(Iteration 2001 / 2500) loss: 0.801246\n",
      "(Epoch 21 / 25) train acc: 0.786000; val_acc: 0.432000\n",
      "(Iteration 2101 / 2500) loss: 0.579535\n",
      "(Epoch 22 / 25) train acc: 0.739000; val_acc: 0.431000\n",
      "(Iteration 2201 / 2500) loss: 0.679833\n",
      "(Epoch 23 / 25) train acc: 0.780000; val_acc: 0.434000\n",
      "(Iteration 2301 / 2500) loss: 0.708039\n",
      "(Epoch 24 / 25) train acc: 0.762000; val_acc: 0.446000\n",
      "(Iteration 2401 / 2500) loss: 0.598116\n",
      "(Epoch 25 / 25) train acc: 0.763000; val_acc: 0.406000\n",
      "0.5\n",
      "(Iteration 1 / 2500) loss: 2.300455\n",
      "(Epoch 0 / 25) train acc: 0.121000; val_acc: 0.134000\n",
      "(Epoch 1 / 25) train acc: 0.283000; val_acc: 0.263000\n",
      "(Iteration 101 / 2500) loss: 2.163300\n",
      "(Epoch 2 / 25) train acc: 0.310000; val_acc: 0.302000\n",
      "(Iteration 201 / 2500) loss: 1.987017\n",
      "(Epoch 3 / 25) train acc: 0.341000; val_acc: 0.304000\n",
      "(Iteration 301 / 2500) loss: 1.910044\n",
      "(Epoch 4 / 25) train acc: 0.325000; val_acc: 0.300000\n",
      "(Iteration 401 / 2500) loss: 1.913427\n",
      "(Epoch 5 / 25) train acc: 0.366000; val_acc: 0.318000\n",
      "(Iteration 501 / 2500) loss: 1.960708\n",
      "(Epoch 6 / 25) train acc: 0.323000; val_acc: 0.311000\n",
      "(Iteration 601 / 2500) loss: 1.821724\n",
      "(Epoch 7 / 25) train acc: 0.345000; val_acc: 0.339000\n",
      "(Iteration 701 / 2500) loss: 1.959739\n",
      "(Epoch 8 / 25) train acc: 0.383000; val_acc: 0.351000\n",
      "(Iteration 801 / 2500) loss: 1.771488\n",
      "(Epoch 9 / 25) train acc: 0.368000; val_acc: 0.365000\n",
      "(Iteration 901 / 2500) loss: 1.969583\n",
      "(Epoch 10 / 25) train acc: 0.346000; val_acc: 0.348000\n",
      "(Iteration 1001 / 2500) loss: 1.904923\n",
      "(Epoch 11 / 25) train acc: 0.362000; val_acc: 0.346000\n",
      "(Iteration 1101 / 2500) loss: 1.907005\n",
      "(Epoch 12 / 25) train acc: 0.367000; val_acc: 0.349000\n",
      "(Iteration 1201 / 2500) loss: 1.911366\n",
      "(Epoch 13 / 25) train acc: 0.384000; val_acc: 0.371000\n",
      "(Iteration 1301 / 2500) loss: 1.768133\n",
      "(Epoch 14 / 25) train acc: 0.398000; val_acc: 0.370000\n",
      "(Iteration 1401 / 2500) loss: 1.851158\n",
      "(Epoch 15 / 25) train acc: 0.387000; val_acc: 0.372000\n",
      "(Iteration 1501 / 2500) loss: 1.798831\n",
      "(Epoch 16 / 25) train acc: 0.344000; val_acc: 0.358000\n",
      "(Iteration 1601 / 2500) loss: 1.783403\n",
      "(Epoch 17 / 25) train acc: 0.434000; val_acc: 0.379000\n",
      "(Iteration 1701 / 2500) loss: 1.797405\n",
      "(Epoch 18 / 25) train acc: 0.395000; val_acc: 0.375000\n",
      "(Iteration 1801 / 2500) loss: 1.730230\n",
      "(Epoch 19 / 25) train acc: 0.394000; val_acc: 0.362000\n",
      "(Iteration 1901 / 2500) loss: 1.944817\n",
      "(Epoch 20 / 25) train acc: 0.399000; val_acc: 0.370000\n",
      "(Iteration 2001 / 2500) loss: 1.771445\n",
      "(Epoch 21 / 25) train acc: 0.365000; val_acc: 0.369000\n",
      "(Iteration 2101 / 2500) loss: 1.776354\n",
      "(Epoch 22 / 25) train acc: 0.421000; val_acc: 0.385000\n",
      "(Iteration 2201 / 2500) loss: 1.844424\n",
      "(Epoch 23 / 25) train acc: 0.391000; val_acc: 0.361000\n",
      "(Iteration 2301 / 2500) loss: 1.675646\n",
      "(Epoch 24 / 25) train acc: 0.392000; val_acc: 0.366000\n",
      "(Iteration 2401 / 2500) loss: 1.941665\n",
      "(Epoch 25 / 25) train acc: 0.418000; val_acc: 0.363000\n"
     ]
    }
   ],
   "source": [
    "np.random.seed(231)\n",
    "num_train = 10000\n",
    "small_data = {\n",
    "  'X_train': data['X_train'][:num_train],\n",
    "  'y_train': data['y_train'][:num_train],\n",
    "  'X_val': data['X_val'],\n",
    "  'y_val': data['y_val'],\n",
    "}\n",
    "\n",
    "solvers = {}\n",
    "dropout_choices = [1, 0.5]\n",
    "for dropout in dropout_choices:\n",
    "    model = FullyConnectedNet([50, 50, 50], dropout=dropout)\n",
    "    print(dropout)\n",
    "\n",
    "    solver = Solver(model, small_data,\n",
    "                    num_epochs=25, batch_size=100,\n",
    "                    update_rule='adam',\n",
    "                    optim_config={\n",
    "                      'learning_rate': 5e-4,\n",
    "                    },\n",
    "                    verbose=True, print_every=100)\n",
    "    solver.train()\n",
    "    solvers[dropout] = solver"
   ]
  },
  {
   "cell_type": "code",
   "execution_count": 36,
   "metadata": {},
   "outputs": [
    {
     "data": {
      "image/png": "[encoded data removed]",
      "text/plain": [
       "<Figure size 1080x1080 with 2 Axes>"
      ]
     },
     "metadata": {},
     "output_type": "display_data"
    }
   ],
   "source": [
    "# Plot train and validation accuracies of the two models\n",
    "\n",
    "train_accs = []\n",
    "val_accs = []\n",
    "for dropout in dropout_choices:\n",
    "    solver = solvers[dropout]\n",
    "    train_accs.append(solver.train_acc_history[-1])\n",
    "    val_accs.append(solver.val_acc_history[-1])\n",
    "\n",
    "plt.subplot(3, 1, 1)\n",
    "\n",
    "for dropout in dropout_choices:\n",
    "    plt.plot(solvers[dropout].train_acc_history, 'o', label='%.2f dropout' % dropout)\n",
    "\n",
    "plt.title('Train accuracy')\n",
    "plt.xlabel('Epoch')\n",
    "plt.ylabel('Accuracy')\n",
    "plt.legend(ncol=2, loc='lower right')\n",
    "  \n",
    "plt.subplot(3, 1, 2)\n",
    "for dropout in dropout_choices:\n",
    "    plt.plot(solvers[dropout].val_acc_history, 'o', label='%.2f dropout' % dropout)\n",
    "\n",
    "plt.title('Val accuracy')\n",
    "plt.xlabel('Epoch')\n",
    "plt.ylabel('Accuracy')\n",
    "plt.legend(ncol=2, loc='lower right')\n",
    "\n",
    "plt.gcf().set_size_inches(15, 15)\n",
    "plt.show()"
   ]
  },
  {
   "cell_type": "markdown",
   "metadata": {},
   "source": [
    "A larger gap appears between validation accuracies when using the same dropout parameter for a network with smaller hidden layer sizes compared to larger hidden layer sizes.\n",
    "\n",
    "This suggests that the same dropout parameter is a stronger regularizer for smaller networks compared to larger ones."
   ]
  },
  {
   "cell_type": "code",
   "execution_count": null,
   "metadata": {},
   "outputs": [],
   "source": []
  }
 ],
 "metadata": {
  "kernelspec": {
   "display_name": "Python 3",
   "language": "python",
   "name": "python3"
  },
  "language_info": {
   "codemirror_mode": {
    "name": "ipython",
    "version": 3
   },
   "file_extension": ".py",
   "mimetype": "text/x-python",
   "name": "python",
   "nbconvert_exporter": "python",
   "pygments_lexer": "ipython3",
   "version": "3.6.5"
  }
 },
 "nbformat": 4,
 "nbformat_minor": 2
}
